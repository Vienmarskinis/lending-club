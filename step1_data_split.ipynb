{
 "cells": [
  {
   "cell_type": "markdown",
   "metadata": {},
   "source": [
    "# Step 1 - Introduction and Data Splitting"
   ]
  },
  {
   "cell_type": "markdown",
   "metadata": {},
   "source": [
    "## Goals in this Notebook"
   ]
  },
  {
   "cell_type": "markdown",
   "metadata": {},
   "source": [
    "- Introduce the reader to the project.\n",
    "- Split the data into train and test. We will try to analyse the data as little as possible, just to make it possible to split it properly."
   ]
  },
  {
   "cell_type": "markdown",
   "metadata": {},
   "source": [
    "## Introduction"
   ]
  },
  {
   "cell_type": "markdown",
   "metadata": {},
   "source": [
    "Before me I have two big datasets, containing information about accepted and rejected loans. I have been tasked with a few main goals:\n",
    "- Create an accepted/rejected loan classification model, test and deploy.\n",
    "- Create grade, subgrade, interest rate prediction models, test and deploy.\n",
    "\n",
    "To achieve these main goals, I will need to complete a few steps, which I split into different notebooks:\n",
    "1) Split the data into train and test.\n",
    "2) Combine the two datasets, perform EDA, create an accepted/rejected loan classification model.\n",
    "3) Perform EDA on the accepted loans dataset.\n",
    "4) Perform feature selection for the three models.\n",
    "5) Create the grade, subgrade, interest rate prediction models.\n",
    "6) Test the models and deploy them.\n",
    "\n",
    "In the project, I will be using these technologies and libraries:\n",
    "- Python,\n",
    "- Polars and Pandas (dataframes),\n",
    "- Seaborn and Matplotlib (visualisation),\n",
    "- Sklearn and XGBoost (modelling),\n",
    "- Sklearn pipelines (data processing),\n",
    "- Shap (feature importance)\n",
    "- Boruta (feature selection),\n",
    "- Docker (containerization),\n",
    "- Google Cloud (deployment)."
   ]
  },
  {
   "cell_type": "markdown",
   "metadata": {},
   "source": [
    "## Data Splitting"
   ]
  },
  {
   "cell_type": "markdown",
   "metadata": {},
   "source": [
    "### Imports"
   ]
  },
  {
   "cell_type": "code",
   "execution_count": 1,
   "metadata": {},
   "outputs": [],
   "source": [
    "import polars as pl\n",
    "import pandas as pd\n",
    "import numpy as np\n",
    "import matplotlib.pyplot as plt\n",
    "import seaborn as sns\n",
    "import os\n",
    "import functions"
   ]
  },
  {
   "cell_type": "markdown",
   "metadata": {},
   "source": [
    "### Splitting accepted loans"
   ]
  },
  {
   "cell_type": "markdown",
   "metadata": {},
   "source": [
    "Load in accepted loans data"
   ]
  },
  {
   "cell_type": "code",
   "execution_count": 2,
   "metadata": {},
   "outputs": [],
   "source": [
    "data_folder = \"data\"\n",
    "path = os.path.join(\n",
    "    data_folder, \"accepted_2007_to_2018q4.csv\", \"accepted_2007_to_2018Q4.csv\"\n",
    ")\n",
    "df_acc = pl.scan_csv(path, dtypes={\"id\": str})"
   ]
  },
  {
   "cell_type": "markdown",
   "metadata": {},
   "source": [
    "Check for duplicates"
   ]
  },
  {
   "cell_type": "code",
   "execution_count": 3,
   "metadata": {},
   "outputs": [
    {
     "data": {
      "text/html": [
       "<div><style>\n",
       ".dataframe > thead > tr > th,\n",
       ".dataframe > tbody > tr > td {\n",
       "  text-align: right;\n",
       "  white-space: pre-wrap;\n",
       "}\n",
       "</style>\n",
       "<small>shape: (1, 2)</small><table border=\"1\" class=\"dataframe\"><thead><tr><th></th><th>counts</th></tr><tr><td>bool</td><td>u32</td></tr></thead><tbody><tr><td>false</td><td>2260701</td></tr></tbody></table></div>"
      ],
      "text/plain": [
       "shape: (1, 2)\n",
       "┌───────┬─────────┐\n",
       "│       ┆ counts  │\n",
       "│ ---   ┆ ---     │\n",
       "│ bool  ┆ u32     │\n",
       "╞═══════╪═════════╡\n",
       "│ false ┆ 2260701 │\n",
       "└───────┴─────────┘"
      ]
     },
     "execution_count": 3,
     "metadata": {},
     "output_type": "execute_result"
    }
   ],
   "source": [
    "df_acc.select(\"id\").collect().is_duplicated().value_counts()"
   ]
  },
  {
   "cell_type": "markdown",
   "metadata": {},
   "source": [
    "There's none if looking at the id."
   ]
  },
  {
   "cell_type": "code",
   "execution_count": 4,
   "metadata": {},
   "outputs": [
    {
     "data": {
      "text/html": [
       "<div><style>\n",
       ".dataframe > thead > tr > th,\n",
       ".dataframe > tbody > tr > td {\n",
       "  text-align: right;\n",
       "  white-space: pre-wrap;\n",
       "}\n",
       "</style>\n",
       "<small>shape: (2, 2)</small><table border=\"1\" class=\"dataframe\"><thead><tr><th></th><th>counts</th></tr><tr><td>bool</td><td>u32</td></tr></thead><tbody><tr><td>false</td><td>2260668</td></tr><tr><td>true</td><td>33</td></tr></tbody></table></div>"
      ],
      "text/plain": [
       "shape: (2, 2)\n",
       "┌───────┬─────────┐\n",
       "│       ┆ counts  │\n",
       "│ ---   ┆ ---     │\n",
       "│ bool  ┆ u32     │\n",
       "╞═══════╪═════════╡\n",
       "│ false ┆ 2260668 │\n",
       "│ true  ┆ 33      │\n",
       "└───────┴─────────┘"
      ]
     },
     "execution_count": 4,
     "metadata": {},
     "output_type": "execute_result"
    }
   ],
   "source": [
    "df_acc.drop(\"id\").collect().is_duplicated().value_counts()"
   ]
  },
  {
   "cell_type": "markdown",
   "metadata": {},
   "source": [
    "There are some if disregarding the id."
   ]
  },
  {
   "cell_type": "code",
   "execution_count": 5,
   "metadata": {},
   "outputs": [
    {
     "data": {
      "text/html": [
       "<div><style>\n",
       ".dataframe > thead > tr > th,\n",
       ".dataframe > tbody > tr > td {\n",
       "  text-align: right;\n",
       "  white-space: pre-wrap;\n",
       "}\n",
       "</style>\n",
       "<small>shape: (1, 2)</small><table border=\"1\" class=\"dataframe\"><thead><tr><th></th><th>counts</th></tr><tr><td>bool</td><td>u32</td></tr></thead><tbody><tr><td>false</td><td>2260669</td></tr></tbody></table></div>"
      ],
      "text/plain": [
       "shape: (1, 2)\n",
       "┌───────┬─────────┐\n",
       "│       ┆ counts  │\n",
       "│ ---   ┆ ---     │\n",
       "│ bool  ┆ u32     │\n",
       "╞═══════╪═════════╡\n",
       "│ false ┆ 2260669 │\n",
       "└───────┴─────────┘"
      ]
     },
     "execution_count": 5,
     "metadata": {},
     "output_type": "execute_result"
    }
   ],
   "source": [
    "df_acc.unique(subset=df_acc.columns[1:]).drop(\n",
    "    \"id\"\n",
    ").collect().is_duplicated().value_counts()"
   ]
  },
  {
   "cell_type": "code",
   "execution_count": 6,
   "metadata": {},
   "outputs": [
    {
     "data": {
      "text/html": [
       "<div><style>\n",
       ".dataframe > thead > tr > th,\n",
       ".dataframe > tbody > tr > td {\n",
       "  text-align: right;\n",
       "  white-space: pre-wrap;\n",
       "}\n",
       "</style>\n",
       "<small>shape: (1, 2)</small><table border=\"1\" class=\"dataframe\"><thead><tr><th></th><th>counts</th></tr><tr><td>bool</td><td>u32</td></tr></thead><tbody><tr><td>false</td><td>2260669</td></tr></tbody></table></div>"
      ],
      "text/plain": [
       "shape: (1, 2)\n",
       "┌───────┬─────────┐\n",
       "│       ┆ counts  │\n",
       "│ ---   ┆ ---     │\n",
       "│ bool  ┆ u32     │\n",
       "╞═══════╪═════════╡\n",
       "│ false ┆ 2260669 │\n",
       "└───────┴─────────┘"
      ]
     },
     "execution_count": 6,
     "metadata": {},
     "output_type": "execute_result"
    }
   ],
   "source": [
    "functions.drop_duplicates_ignore_first_col(df_acc).drop(\n",
    "    \"id\"\n",
    ").collect().is_duplicated().value_counts()"
   ]
  },
  {
   "cell_type": "markdown",
   "metadata": {},
   "source": [
    "Having dropped the duplicates, we see there were 33 identical entries. Good to get rid of them."
   ]
  },
  {
   "cell_type": "markdown",
   "metadata": {},
   "source": [
    "#### Cleaning the id column"
   ]
  },
  {
   "cell_type": "markdown",
   "metadata": {},
   "source": [
    "The id column is typed as string right now. Let's see why."
   ]
  },
  {
   "cell_type": "code",
   "execution_count": 7,
   "metadata": {},
   "outputs": [
    {
     "data": {
      "text/plain": [
       "array(['Total amount funded in policy code 1: 6417608175'], dtype=object)"
      ]
     },
     "execution_count": 7,
     "metadata": {},
     "output_type": "execute_result"
    }
   ],
   "source": [
    "df_non_digits = df_acc.filter(pl.col(\"id\").str.contains(\"\\D\")).collect()\n",
    "df_non_digits_drop_null_cols = df_non_digits[\n",
    "    [s.name for s in df_non_digits if not (s.null_count() == df_non_digits.height)]\n",
    "].to_numpy()\n",
    "df_non_digits_drop_null_cols[0]"
   ]
  },
  {
   "cell_type": "markdown",
   "metadata": {},
   "source": [
    "There are some rows where only the id column has a non-null value and seems to have some summed statistics. We will get rid of these rows for now."
   ]
  },
  {
   "cell_type": "markdown",
   "metadata": {},
   "source": [
    "#### Splitting the data"
   ]
  },
  {
   "cell_type": "markdown",
   "metadata": {},
   "source": [
    "We are dealing with time-stamped data, therefore it could be a good idea to do a train/test split without shuffling, but with regards to id or date. we'll want to parse the issue date to datetime. Let's also apply the two cleaning steps and try converting id to int."
   ]
  },
  {
   "cell_type": "code",
   "execution_count": 8,
   "metadata": {},
   "outputs": [
    {
     "data": {
      "image/png": "[encoded data removed]",
      "text/plain": [
       "<Figure size 640x480 with 1 Axes>"
      ]
     },
     "metadata": {},
     "output_type": "display_data"
    }
   ],
   "source": [
    "df_acc_clean = (\n",
    "    df_acc.pipe(functions.drop_duplicates_ignore_first_col)\n",
    "    .pipe(functions.remove_text_cast_col, col=\"id\")\n",
    "    .pipe(functions.parse_to_datetime, col=\"issue_d\", fmt=\"%b-%Y\")\n",
    ")\n",
    "plt.plot(\n",
    "    df_acc_clean.sort(\"id\").select(\"issue_d_parsed\").collect().to_numpy().flatten()\n",
    ")\n",
    "sns.despine()\n",
    "plt.title(\"Loan Issue Dates Ordered by id\")\n",
    "plt.ylabel(\"Date\")\n",
    "plt.xlabel(\"Loan Order Number\")\n",
    "plt.show()"
   ]
  },
  {
   "cell_type": "markdown",
   "metadata": {},
   "source": [
    "Seems that when we order the observations by id, we get some inconsistent dates."
   ]
  },
  {
   "cell_type": "code",
   "execution_count": 9,
   "metadata": {},
   "outputs": [
    {
     "data": {
      "image/png": "[encoded data removed]",
      "text/plain": [
       "<Figure size 640x480 with 1 Axes>"
      ]
     },
     "metadata": {},
     "output_type": "display_data"
    }
   ],
   "source": [
    "df_acc_clean = df_acc_clean.sort([\"issue_d_parsed\", \"id\"])\n",
    "\n",
    "plt.plot(df_acc_clean.select(\"issue_d_parsed\").collect().to_numpy().flatten())\n",
    "sns.despine()\n",
    "plt.title(\"Loan Issue Dates Ordered by Date\")\n",
    "plt.ylabel(\"Date\")\n",
    "plt.xlabel(\"Loan Order Number\")\n",
    "plt.show()"
   ]
  },
  {
   "cell_type": "markdown",
   "metadata": {},
   "source": [
    "Since ordering by date itself smoothens out the data, we'll keep this approach.\n",
    "\n"
   ]
  },
  {
   "cell_type": "markdown",
   "metadata": {},
   "source": [
    "Assumption: there may or may not be a different loan acceptance criteria based on the date. When splitting we will split very little data for testing from the very end and also another as sample from the whole range."
   ]
  },
  {
   "cell_type": "code",
   "execution_count": 10,
   "metadata": {},
   "outputs": [
    {
     "name": "stdout",
     "output_type": "stream",
     "text": [
      "The data starts with Jun-2007, ends with Dec-2018\n",
      "Splitting test/train at Oct-2018, achieving 0.964 train data fraction.\n"
     ]
    }
   ],
   "source": [
    "df_train_whole, df_test_tail, split_date_train = functions.fraction_split_by_date(\n",
    "    df_acc_clean, \"issue_d\", \"issue_d_parsed\", train_fraction=0.95\n",
    ")"
   ]
  },
  {
   "cell_type": "code",
   "execution_count": 11,
   "metadata": {},
   "outputs": [],
   "source": [
    "df_train, df_test_sampled = functions.lazy_train_test_split(\n",
    "    df_train_whole, train_fraction=0.95\n",
    ")\n",
    "\n",
    "parquet_file = os.path.join(data_folder, \"acc_train.parquet\")\n",
    "df_train.collect().write_parquet(\n",
    "    parquet_file, compression=\"snappy\", row_group_size=100_000\n",
    ")\n",
    "parquet_file = os.path.join(data_folder, \"acc_test_tail.parquet\")\n",
    "df_test_tail.collect().write_parquet(\n",
    "    parquet_file, compression=\"snappy\", row_group_size=100_000\n",
    ")\n",
    "parquet_file = os.path.join(data_folder, \"acc_test_sampled.parquet\")\n",
    "df_test_sampled.collect().write_parquet(\n",
    "    parquet_file, compression=\"snappy\", row_group_size=100_000\n",
    ")"
   ]
  },
  {
   "cell_type": "markdown",
   "metadata": {},
   "source": [
    "### Splitting Rejected Loans"
   ]
  },
  {
   "cell_type": "markdown",
   "metadata": {},
   "source": [
    "Load in rejected loans data."
   ]
  },
  {
   "cell_type": "code",
   "execution_count": 12,
   "metadata": {},
   "outputs": [],
   "source": [
    "path = os.path.join(\n",
    "    data_folder, \"rejected_2007_to_2018q4.csv\", \"rejected_2007_to_2018Q4.csv\"\n",
    ")\n",
    "df_rej = pl.scan_csv(path)"
   ]
  },
  {
   "cell_type": "markdown",
   "metadata": {},
   "source": [
    "Check for duplicates."
   ]
  },
  {
   "cell_type": "code",
   "execution_count": 13,
   "metadata": {},
   "outputs": [
    {
     "data": {
      "text/html": [
       "<div><style>\n",
       ".dataframe > thead > tr > th,\n",
       ".dataframe > tbody > tr > td {\n",
       "  text-align: right;\n",
       "  white-space: pre-wrap;\n",
       "}\n",
       "</style>\n",
       "<small>shape: (2, 2)</small><table border=\"1\" class=\"dataframe\"><thead><tr><th></th><th>counts</th></tr><tr><td>bool</td><td>u32</td></tr></thead><tbody><tr><td>false</td><td>27349253</td></tr><tr><td>true</td><td>299488</td></tr></tbody></table></div>"
      ],
      "text/plain": [
       "shape: (2, 2)\n",
       "┌───────┬──────────┐\n",
       "│       ┆ counts   │\n",
       "│ ---   ┆ ---      │\n",
       "│ bool  ┆ u32      │\n",
       "╞═══════╪══════════╡\n",
       "│ false ┆ 27349253 │\n",
       "│ true  ┆ 299488   │\n",
       "└───────┴──────────┘"
      ]
     },
     "execution_count": 13,
     "metadata": {},
     "output_type": "execute_result"
    }
   ],
   "source": [
    "df_rej.collect().is_duplicated().value_counts()"
   ]
  },
  {
   "cell_type": "markdown",
   "metadata": {},
   "source": [
    "Drop the duplicates."
   ]
  },
  {
   "cell_type": "code",
   "execution_count": 14,
   "metadata": {},
   "outputs": [
    {
     "data": {
      "text/html": [
       "<div><style>\n",
       ".dataframe > thead > tr > th,\n",
       ".dataframe > tbody > tr > td {\n",
       "  text-align: right;\n",
       "  white-space: pre-wrap;\n",
       "}\n",
       "</style>\n",
       "<small>shape: (1, 2)</small><table border=\"1\" class=\"dataframe\"><thead><tr><th></th><th>counts</th></tr><tr><td>bool</td><td>u32</td></tr></thead><tbody><tr><td>false</td><td>27490787</td></tr></tbody></table></div>"
      ],
      "text/plain": [
       "shape: (1, 2)\n",
       "┌───────┬──────────┐\n",
       "│       ┆ counts   │\n",
       "│ ---   ┆ ---      │\n",
       "│ bool  ┆ u32      │\n",
       "╞═══════╪══════════╡\n",
       "│ false ┆ 27490787 │\n",
       "└───────┴──────────┘"
      ]
     },
     "execution_count": 14,
     "metadata": {},
     "output_type": "execute_result"
    }
   ],
   "source": [
    "df_rej = df_rej.unique()\n",
    "df_rej.collect().is_duplicated().value_counts()"
   ]
  },
  {
   "cell_type": "code",
   "execution_count": 15,
   "metadata": {},
   "outputs": [
    {
     "data": {
      "image/png": "[encoded data removed]",
      "text/plain": [
       "<Figure size 640x480 with 1 Axes>"
      ]
     },
     "metadata": {},
     "output_type": "display_data"
    }
   ],
   "source": [
    "df_rej = df_rej.select(\n",
    "    pl.all(),\n",
    "    pl.col(\"Application Date\")\n",
    "    .str.to_datetime(\"%Y-%m-%d\")\n",
    "    .alias(\"Application Date Parsed\"),\n",
    ").sort(\"Application Date Parsed\")\n",
    "plt.plot(df_rej.select(\"Application Date Parsed\").collect().to_numpy().flatten())\n",
    "sns.despine()\n",
    "plt.title(\"Rejected Loan Dates Ordered by Date\")\n",
    "plt.ylabel(\"Date\")\n",
    "plt.xlabel(\"Loan Order Number\")\n",
    "plt.show()"
   ]
  },
  {
   "cell_type": "markdown",
   "metadata": {},
   "source": [
    "For splitting rejected loans we'll do same exact thing as we did with the accepted loans dataset. The only difference is that we already have the date to split on. We will only have to find the last day of month since accepted loans don't have the day of month recorded, but rejected loans do."
   ]
  },
  {
   "cell_type": "code",
   "execution_count": 16,
   "metadata": {},
   "outputs": [],
   "source": [
    "pd_date = pd.to_datetime(split_date_train)\n",
    "last_day_of_month = pd_date + pd.offsets.MonthEnd(0)\n",
    "last_day_of_month_np = np.datetime64(last_day_of_month)\n",
    "\n",
    "df_train_whole, df_test_tail = functions.train_test_split_by_date(\n",
    "    df_rej, \"Application Date Parsed\", last_day_of_month_np\n",
    ")\n",
    "df_train_whole = df_train_whole.drop(\"Application Date Parsed\")\n",
    "df_test_tail = df_test_tail.drop(\"Application Date Parsed\")\n",
    "\n",
    "df_train, df_test_sampled = functions.lazy_train_test_split(\n",
    "    df_train_whole, train_fraction=0.95\n",
    ")\n",
    "\n",
    "parquet_file = os.path.join(data_folder, \"rej_train.parquet\")\n",
    "df_train.collect().write_parquet(\n",
    "    parquet_file, compression=\"snappy\", row_group_size=100_000\n",
    ")\n",
    "parquet_file = os.path.join(data_folder, \"rej_test_tail.parquet\")\n",
    "df_test_tail.collect().write_parquet(\n",
    "    parquet_file, compression=\"snappy\", row_group_size=100_000\n",
    ")\n",
    "parquet_file = os.path.join(data_folder, \"rej_test_sampled.parquet\")\n",
    "df_test_sampled.collect().write_parquet(\n",
    "    parquet_file, compression=\"snappy\", row_group_size=100_000\n",
    ")"
   ]
  },
  {
   "cell_type": "markdown",
   "metadata": {},
   "source": [
    "## This Notebook's Output"
   ]
  },
  {
   "cell_type": "markdown",
   "metadata": {},
   "source": [
    "The data has been split. Please navigate to step 2 notebook to continue reading."
   ]
  }
 ],
 "metadata": {
  "kernelspec": {
   "display_name": "venv",
   "language": "python",
   "name": "python3"
  },
  "language_info": {
   "codemirror_mode": {
    "name": "ipython",
    "version": 3
   },
   "file_extension": ".py",
   "mimetype": "text/x-python",
   "name": "python",
   "nbconvert_exporter": "python",
   "pygments_lexer": "ipython3",
   "version": "3.11.1"
  }
 },
 "nbformat": 4,
 "nbformat_minor": 2
}
